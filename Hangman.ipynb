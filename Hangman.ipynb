{
 "cells": [
  {
   "cell_type": "code",
   "execution_count": null,
   "metadata": {},
   "outputs": [],
   "source": [
    "import random\n",
    "\n",
    "def select_random_word(word_list):\n",
    "    return random.choice(word_list)\n",
    "\n",
    "def display_word(word, letters_guessed):\n",
    "    display = ''\n",
    "    for letter in word:\n",
    "        if letter in letters_guessed:\n",
    "            display += letter\n",
    "        else:\n",
    "            display += '_'\n",
    "    return display\n",
    "\n",
    "def play_hangman(word_list):\n",
    "    word_to_guess = select_random_word(word_list)\n",
    "    attempts_left = 7\n",
    "    letters_guessed = set()\n",
    "\n",
    "    print(\"Welcome to Hangman!\")\n",
    "    print(\"You have\", attempts_left, \"attempts left.\")\n",
    "\n",
    "    while attempts_left > 0:\n",
    "        print(\"\\nCurrent word: \", display_word(word_to_guess, letters_guessed))\n",
    "        guess = input(\"Guess a letter: \").lower()\n",
    "\n",
    "        if len(guess) != 1 or not guess.isalpha():\n",
    "            print(\"Invalid input. Please enter a single letter.\")\n",
    "            continue\n",
    "\n",
    "        if guess in letters_guessed:\n",
    "            print(\"You've already guessed that letter.\")\n",
    "            continue\n",
    "\n",
    "        letters_guessed.add(guess)\n",
    "\n",
    "        if guess in word_to_guess:\n",
    "            print(\"Good guess!\")\n",
    "        else:\n",
    "            print(\"Incorrect guess.\")\n",
    "            attempts_left -= 1\n",
    "            print(\"You have\", attempts_left, \"attempts left.\")\n",
    "\n",
    "        if set(word_to_guess) <= letters_guessed:\n",
    "            print(\"\\nCongratulations! You've guessed the word:\", word_to_guess)\n",
    "            break\n",
    "    else:\n",
    "        print(\"\\nSorry, you've run out of attempts. The word was:\", word_to_guess)\n",
    "\n",
    "if __name__ == \"__main__\":\n",
    "    word_list = ['apple', 'banana', 'cherry', 'grapefruit', 'kiwi', 'mango', 'orange', 'peach', 'strawberry']\n",
    "    play_hangman(word_list)\n"
   ]
  }
 ],
 "metadata": {
  "kernelspec": {
   "display_name": "Python 3",
   "language": "python",
   "name": "python3"
  },
  "language_info": {
   "name": "python",
   "version": "3.11.1"
  },
  "orig_nbformat": 4,
  "vscode": {
   "interpreter": {
    "hash": "e3dfee3fe5c3a31f4b4830527360689e25beb833bd2474d33bf97b86e4a25c09"
   }
  }
 },
 "nbformat": 4,
 "nbformat_minor": 2
}
